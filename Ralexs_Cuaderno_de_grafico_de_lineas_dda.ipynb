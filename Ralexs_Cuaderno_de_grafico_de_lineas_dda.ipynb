{
  "nbformat": 4,
  "nbformat_minor": 0,
  "metadata": {
    "colab": {
      "name": "Ralexs Cuaderno de grafico de lineas - dda.ipynb",
      "provenance": [],
      "collapsed_sections": [],
      "include_colab_link": true
    },
    "kernelspec": {
      "name": "python3",
      "display_name": "Python 3"
    }
  },
  "cells": [
    {
      "cell_type": "markdown",
      "metadata": {
        "id": "view-in-github",
        "colab_type": "text"
      },
      "source": [
        "<a href=\"https://colab.research.google.com/github/145002/CuadernosParalera/blob/main/Ralexs_Cuaderno_de_grafico_de_lineas_dda.ipynb\" target=\"_parent\"><img src=\"https://colab.research.google.com/assets/colab-badge.svg\" alt=\"Open In Colab\"/></a>"
      ]
    },
    {
      "cell_type": "markdown",
      "metadata": {
        "id": "9NXbI8A4bl_T"
      },
      "source": [
        "Universidad Nacional de San Antonio del Cusco\n",
        "\n",
        "Departamento Académico de Informática\n",
        "\n",
        "Algoritmos Paralelos y Distribuidos\n",
        "\n",
        "**Guia Practica - Grafica de Lineas**\n",
        "\n",
        "Docente: Dra. Roxana Lisette Quintanilla Portugal"
      ]
    },
    {
      "cell_type": "markdown",
      "metadata": {
        "id": "XJxJ9WeRgDNx"
      },
      "source": [
        "**Prerequisitos**: Importar biblioteca para ploteo de imagenes"
      ]
    },
    {
      "cell_type": "code",
      "metadata": {
        "id": "7QTC5W0mdB_z"
      },
      "source": [
        "import matplotlib.pyplot as plt"
      ],
      "execution_count": null,
      "outputs": []
    },
    {
      "cell_type": "code",
      "metadata": {
        "colab": {
          "base_uri": "https://localhost:8080/"
        },
        "id": "wGjIZsYkVkji",
        "outputId": "f7a7e258-dae9-48d0-ae3c-bac7bb2ba5a4"
      },
      "source": [
        "!pip install ipython-autotime\n",
        "\n",
        "%load_ext autotime"
      ],
      "execution_count": null,
      "outputs": [
        {
          "output_type": "stream",
          "text": [
            "Collecting ipython-autotime\n",
            "  Downloading https://files.pythonhosted.org/packages/b4/c9/b413a24f759641bc27ef98c144b590023c8038dfb8a3f09e713e9dff12c1/ipython_autotime-0.3.1-py2.py3-none-any.whl\n",
            "Requirement already satisfied: ipython in /usr/local/lib/python3.7/dist-packages (from ipython-autotime) (5.5.0)\n",
            "Requirement already satisfied: decorator in /usr/local/lib/python3.7/dist-packages (from ipython->ipython-autotime) (4.4.2)\n",
            "Requirement already satisfied: prompt-toolkit<2.0.0,>=1.0.4 in /usr/local/lib/python3.7/dist-packages (from ipython->ipython-autotime) (1.0.18)\n",
            "Requirement already satisfied: simplegeneric>0.8 in /usr/local/lib/python3.7/dist-packages (from ipython->ipython-autotime) (0.8.1)\n",
            "Requirement already satisfied: pickleshare in /usr/local/lib/python3.7/dist-packages (from ipython->ipython-autotime) (0.7.5)\n",
            "Requirement already satisfied: setuptools>=18.5 in /usr/local/lib/python3.7/dist-packages (from ipython->ipython-autotime) (54.2.0)\n",
            "Requirement already satisfied: pygments in /usr/local/lib/python3.7/dist-packages (from ipython->ipython-autotime) (2.6.1)\n",
            "Requirement already satisfied: pexpect; sys_platform != \"win32\" in /usr/local/lib/python3.7/dist-packages (from ipython->ipython-autotime) (4.8.0)\n",
            "Requirement already satisfied: traitlets>=4.2 in /usr/local/lib/python3.7/dist-packages (from ipython->ipython-autotime) (5.0.5)\n",
            "Requirement already satisfied: six>=1.9.0 in /usr/local/lib/python3.7/dist-packages (from prompt-toolkit<2.0.0,>=1.0.4->ipython->ipython-autotime) (1.15.0)\n",
            "Requirement already satisfied: wcwidth in /usr/local/lib/python3.7/dist-packages (from prompt-toolkit<2.0.0,>=1.0.4->ipython->ipython-autotime) (0.2.5)\n",
            "Requirement already satisfied: ptyprocess>=0.5 in /usr/local/lib/python3.7/dist-packages (from pexpect; sys_platform != \"win32\"->ipython->ipython-autotime) (0.7.0)\n",
            "Requirement already satisfied: ipython-genutils in /usr/local/lib/python3.7/dist-packages (from traitlets>=4.2->ipython->ipython-autotime) (0.2.0)\n",
            "Installing collected packages: ipython-autotime\n",
            "Successfully installed ipython-autotime-0.3.1\n",
            "time: 234 µs (started: 2021-03-31 03:20:26 +00:00)\n"
          ],
          "name": "stdout"
        }
      ]
    },
    {
      "cell_type": "markdown",
      "metadata": {
        "id": "iNl-6Y4mC3Gr"
      },
      "source": [
        "Este codigo permite dibujar una linea teniendo ya todos las coordenadas en dos arreglos, a1 y a2. Sin embargo la libreria no permite ver a nivel de pixel. Vea que al establecer los limites de x & y en 2, la libreria renderiza el canvas para dar mayor granularidad entre punto y punto de las coordenadas.\n"
      ]
    },
    {
      "cell_type": "code",
      "metadata": {
        "id": "E1eEGroOTjit",
        "colab": {
          "base_uri": "https://localhost:8080/",
          "height": 286
        },
        "outputId": "cd335fc0-40a3-4a2b-cf58-2aa156889b46"
      },
      "source": [
        "a1 = [0, 1, 2]\n",
        "a2 = [0, 1, 2]\n",
        "\n",
        "for i in range(3):\n",
        "    plt.xlim(right=2) \n",
        "    plt.ylim(top=2)\n",
        "    plt.plot(a1,a2,)\n",
        "\n",
        "plt.show()"
      ],
      "execution_count": null,
      "outputs": [
        {
          "output_type": "display_data",
          "data": {
            "image/png": "[encoded data removed]",
            "text/plain": [
              "<Figure size 432x288 with 1 Axes>"
            ]
          },
          "metadata": {
            "tags": [],
            "needs_background": "light"
          }
        },
        {
          "output_type": "stream",
          "text": [
            "time: 211 ms (started: 2021-03-31 03:20:29 +00:00)\n"
          ],
          "name": "stdout"
        }
      ]
    },
    {
      "cell_type": "markdown",
      "metadata": {
        "id": "aT6nbLs7klUN"
      },
      "source": [
        "Investigamos otra libreria de graficos (pillow) que permitiría imprimir por pixel\n"
      ]
    },
    {
      "cell_type": "code",
      "metadata": {
        "id": "rp0KXPpeLEgC",
        "colab": {
          "base_uri": "https://localhost:8080/"
        },
        "outputId": "9e20e6d2-fa58-4629-c3d5-1956dec8f6d4"
      },
      "source": [
        " pip install Pillow"
      ],
      "execution_count": null,
      "outputs": [
        {
          "output_type": "stream",
          "text": [
            "Requirement already satisfied: Pillow in /usr/local/lib/python3.7/dist-packages (7.1.2)\n",
            "time: 2.93 s (started: 2021-03-31 03:20:33 +00:00)\n"
          ],
          "name": "stdout"
        }
      ]
    },
    {
      "cell_type": "markdown",
      "metadata": {
        "id": "PppS0LwpHG1Z"
      },
      "source": [
        "El procedimiendo de Pillow es crear un canvas que luego servira de lienzo para dibujar por encima (puntos, lineas, etc). El codigo a seguir muestra los pasos 1-2 para crear y guardar el canvas. Los pasos 3-4 sirven para el ploteo; asi, es importante notar que la libreria Pillow, en el paso 3, solamente abre la imagen. En el paso 4, haciendo uso de la libreria matplotlib.pyplot, se realiza el ploteo en si.\n"
      ]
    },
    {
      "cell_type": "code",
      "metadata": {
        "id": "zgdex2LGLIij",
        "colab": {
          "base_uri": "https://localhost:8080/",
          "height": 299
        },
        "outputId": "38df7539-9473-427a-ff0a-fc2c165a93af"
      },
      "source": [
        "import matplotlib.pyplot as plt\n",
        "from matplotlib.pyplot import imshow\n",
        "from PIL import Image, ImageDraw\n",
        "\n",
        "#1. dibujar canvas\n",
        "blank_image = Image.new('RGB', (100, 100), 'white')\n",
        "img_draw = ImageDraw.Draw(blank_image)\n",
        "\n",
        "#2. guardar la imagen\n",
        "blank_image.save('blank_image.jpg')\n",
        "\n",
        "#3. abrir la imagen utilizando el nombre que ya esta en la ruta por defecto del Colab\n",
        "img = Image.open('blank_image.jpg')\n",
        "\n",
        "#4. Como plt sabe cómo manejar la instancia de la clase Image, simplemente ingrese su imagen cargada al método imshow\n",
        "plt.imshow(img, origin=\"lower\")\n"
      ],
      "execution_count": null,
      "outputs": [
        {
          "output_type": "execute_result",
          "data": {
            "text/plain": [
              "<matplotlib.image.AxesImage at 0x7f4d4ef7fb10>"
            ]
          },
          "metadata": {
            "tags": []
          },
          "execution_count": 33
        },
        {
          "output_type": "display_data",
          "data": {
            "image/png": "[encoded data removed]",
            "text/plain": [
              "<Figure size 432x288 with 1 Axes>"
            ]
          },
          "metadata": {
            "tags": [],
            "needs_background": "light"
          }
        },
        {
          "output_type": "stream",
          "text": [
            "time: 200 ms (started: 2021-03-31 04:26:09 +00:00)\n"
          ],
          "name": "stdout"
        }
      ]
    },
    {
      "cell_type": "markdown",
      "metadata": {
        "id": "hKykPMUiYOb0"
      },
      "source": [
        "Algoritmo DDA"
      ]
    },
    {
      "cell_type": "code",
      "metadata": {
        "id": "edlSXZ3WYK5s",
        "colab": {
          "base_uri": "https://localhost:8080/",
          "height": 316
        },
        "outputId": "24de5469-22f7-4a71-d7bb-1ec1dffeadb9"
      },
      "source": [
        "from matplotlib.pyplot import imshow\n",
        "from PIL import Image, ImageDraw\n",
        "\n",
        "def ROUND(a):\n",
        "\treturn int(a + 0.5) #x=2+0.5 y=1.4+0.5 -> 1.1\n",
        " \n",
        "def drawDDA(x0,y0,x1,y1,img_draw):\n",
        "  #1. identificar los diferenciales (los pixeles que van a recorrer en cada eje)\n",
        "  dx = (x1-x0)\n",
        "  dy = (y1-y0)\n",
        "\n",
        "  #2. determinar el largo de la linea\n",
        "  length = dx if dx > dy else dy\n",
        "\n",
        "  #3. calcular incrementos en x & y\n",
        "  ix = dx/length #1+1 = 2\n",
        "  iy = dy/length #1+0.4 = 1.4\n",
        "\n",
        "  #4. asignar los puntos de inicio\n",
        "  x,y = x0,y0 #1,1\n",
        "\n",
        "  #5. pintar el punto de inicio\n",
        "  img_draw.point((ROUND(x),ROUND(y)),fill='blue')\n",
        "  \n",
        "  #6. aqui inicia el dibujo de los demás puntos de la linea hasta el final\n",
        "  for i in range(length):\n",
        "    x += ix\n",
        "    y += iy\n",
        "    img_draw.point((ROUND(x),ROUND(y)),fill='gray')\n",
        "\n",
        "#aqui termina el algoritmo de DDA\n",
        "\n",
        "#abrir el canvas creado anteriormente\n",
        "img = Image.open('blank_image.jpg')\n",
        "\n",
        "#llamar al ImageDraw de Pillow para manipular la imagen abierta \n",
        "img_draw = ImageDraw.Draw(img)\n",
        "\n",
        "#dibujar las lineas\n",
        "%timeit drawDDA(1,1, 11,5, img_draw)\n",
        "\n",
        "#guardar la imagen\n",
        "img.save('dda_image.jpg')\n",
        "\n",
        "# plotear la imagen \n",
        "plt.imshow(img,origin='lower')\n",
        "\n"
      ],
      "execution_count": null,
      "outputs": [
        {
          "output_type": "stream",
          "text": [
            "10000 loops, best of 5: 34.2 µs per loop\n"
          ],
          "name": "stdout"
        },
        {
          "output_type": "execute_result",
          "data": {
            "text/plain": [
              "<matplotlib.image.AxesImage at 0x7f4d61b24950>"
            ]
          },
          "metadata": {
            "tags": []
          },
          "execution_count": 9
        },
        {
          "output_type": "display_data",
          "data": {
            "image/png": "[encoded data removed]",
            "text/plain": [
              "<Figure size 432x288 with 1 Axes>"
            ]
          },
          "metadata": {
            "tags": [],
            "needs_background": "light"
          }
        },
        {
          "output_type": "stream",
          "text": [
            "time: 2.37 s (started: 2021-03-31 03:20:41 +00:00)\n"
          ],
          "name": "stdout"
        }
      ]
    },
    {
      "cell_type": "markdown",
      "metadata": {
        "id": "amSvsVk6Qsn0"
      },
      "source": [
        "• PENDIENTE m>1"
      ]
    },
    {
      "cell_type": "code",
      "metadata": {
        "colab": {
          "base_uri": "https://localhost:8080/",
          "height": 316
        },
        "id": "E0GhVCiSQawu",
        "outputId": "a413ece0-24d6-4e8c-bf43-61a2b1e1d045"
      },
      "source": [
        "# m>1\n",
        "from matplotlib.pyplot import imshow\n",
        "from PIL import Image, ImageDraw\n",
        "\n",
        "def ROUND(a):\n",
        "\treturn int(a + 0.5) #x=2+0.5 y=1.4+0.5 -> 1.1\n",
        " \n",
        "def drawDDA(x0,y0,x1,y1,img_draw):\n",
        "  #1. identificar los diferenciales (los pixeles que van a recorrer en cada eje)\n",
        "  dx = (x1-x0)\n",
        "  dy = (y1-y0)\n",
        "\n",
        "  #2. determinar el largo de la linea\n",
        "  length = dx if dx > dy else dy\n",
        "\n",
        "  #3. calcular incrementos en x & y\n",
        "  ix = dx/length #1+1 = 2\n",
        "  iy = dy/length #1+0.4 = 1.4\n",
        "\n",
        "  #4. asignar los puntos de inicio\n",
        "  x,y = x0,y0 #1,1\n",
        "\n",
        "  #5. pintar el punto de inicio\n",
        "  img_draw.point((ROUND(x),ROUND(y)),fill='blue')\n",
        "  \n",
        "  #6. aqui inicia el dibujo de los demás puntos de la linea hasta el final\n",
        "  for i in range(length):\n",
        "    x += ix\n",
        "    y += iy\n",
        "    img_draw.point((ROUND(x),ROUND(y)),fill='gray')\n",
        "\n",
        "#aqui termina el algoritmo de DDA\n",
        "\n",
        "#abrir el canvas creado anteriormente\n",
        "img = Image.open('blank_image.jpg')\n",
        "\n",
        "#llamar al ImageDraw de Pillow para manipular la imagen abierta \n",
        "img_draw = ImageDraw.Draw(img)\n",
        "\n",
        "#dibujar las lineas\n",
        "%timeit drawDDA(1,1, 10,10, img_draw)\n",
        "\n",
        "#guardar la imagen\n",
        "img.save('dda_image.jpg')\n",
        "\n",
        "# plotear la imagen \n",
        "plt.imshow(img,origin='lower')"
      ],
      "execution_count": null,
      "outputs": [
        {
          "output_type": "stream",
          "text": [
            "10000 loops, best of 5: 30.2 µs per loop\n"
          ],
          "name": "stdout"
        },
        {
          "output_type": "execute_result",
          "data": {
            "text/plain": [
              "<matplotlib.image.AxesImage at 0x7f4d61a98650>"
            ]
          },
          "metadata": {
            "tags": []
          },
          "execution_count": 10
        },
        {
          "output_type": "display_data",
          "data": {
            "image/png": "[encoded data removed]",
            "text/plain": [
              "<Figure size 432x288 with 1 Axes>"
            ]
          },
          "metadata": {
            "tags": [],
            "needs_background": "light"
          }
        },
        {
          "output_type": "stream",
          "text": [
            "time: 2.1 s (started: 2021-03-31 03:20:46 +00:00)\n"
          ],
          "name": "stdout"
        }
      ]
    },
    {
      "cell_type": "markdown",
      "metadata": {
        "id": "sPCYoVEZQ9PD"
      },
      "source": [
        "• PENDIENTE m<1"
      ]
    },
    {
      "cell_type": "code",
      "metadata": {
        "colab": {
          "base_uri": "https://localhost:8080/",
          "height": 316
        },
        "id": "fYIXT3BfQ_Kw",
        "outputId": "1dd0f355-57d8-48bd-e530-430afddb4dc8"
      },
      "source": [
        "# m<1\n",
        "from matplotlib.pyplot import imshow\n",
        "from PIL import Image, ImageDraw\n",
        "\n",
        "def ROUND(a):\n",
        "\treturn int(a + 0.5) #x=2+0.5 y=1.4+0.5 -> 1.1\n",
        " \n",
        "def drawDDA(x0,y0,x1,y1,img_draw):\n",
        "  #1. identificar los diferenciales (los pixeles que van a recorrer en cada eje)\n",
        "  dx = (x1-x0)\n",
        "  dy = (y1-y0)\n",
        "\n",
        "  #2. determinar el largo de la linea\n",
        "  length = dx if dx > dy else dy\n",
        "\n",
        "  #3. calcular incrementos en x & y\n",
        "  ix = dx/length #1+1 = 2\n",
        "  iy = dy/length #1+0.4 = 1.4\n",
        "\n",
        "  #4. asignar los puntos de inicio\n",
        "  x,y = x0,y0 #1,1\n",
        "\n",
        "  #5. pintar el punto de inicio\n",
        "  img_draw.point((ROUND(x),ROUND(y)),fill='blue')\n",
        "  \n",
        "  #6. aqui inicia el dibujo de los demás puntos de la linea hasta el final\n",
        "  for i in range(length):\n",
        "    x += ix\n",
        "    y += iy\n",
        "    img_draw.point((ROUND(x),ROUND(y)),fill='gray')\n",
        "\n",
        "#aqui termina el algoritmo de DDA\n",
        "\n",
        "#abrir el canvas creado anteriormente\n",
        "img = Image.open('blank_image.jpg')\n",
        "\n",
        "#llamar al ImageDraw de Pillow para manipular la imagen abierta \n",
        "img_draw = ImageDraw.Draw(img)\n",
        "\n",
        "#dibujar las lineas\n",
        "%timeit drawDDA(1,10, 10,1, img_draw)\n",
        "\n",
        "#guardar la imagen\n",
        "img.save('dda_image.jpg')\n",
        "\n",
        "# plotear la imagen \n",
        "plt.imshow(img,origin='lower')"
      ],
      "execution_count": null,
      "outputs": [
        {
          "output_type": "stream",
          "text": [
            "10000 loops, best of 5: 31.4 µs per loop\n"
          ],
          "name": "stdout"
        },
        {
          "output_type": "execute_result",
          "data": {
            "text/plain": [
              "<matplotlib.image.AxesImage at 0x7f4d61a043d0>"
            ]
          },
          "metadata": {
            "tags": []
          },
          "execution_count": 11
        },
        {
          "output_type": "display_data",
          "data": {
            "image/png": "[encoded data removed]",
            "text/plain": [
              "<Figure size 432x288 with 1 Axes>"
            ]
          },
          "metadata": {
            "tags": [],
            "needs_background": "light"
          }
        },
        {
          "output_type": "stream",
          "text": [
            "time: 2.16 s (started: 2021-03-31 03:20:51 +00:00)\n"
          ],
          "name": "stdout"
        }
      ]
    },
    {
      "cell_type": "markdown",
      "metadata": {
        "id": "MHHwCqBsbSoh"
      },
      "source": [
        "• PENDIENTE m = vertical"
      ]
    },
    {
      "cell_type": "code",
      "metadata": {
        "colab": {
          "base_uri": "https://localhost:8080/",
          "height": 316
        },
        "id": "mef27XCuaTfZ",
        "outputId": "8ad4f8df-6b99-4b1c-84fc-d56a922fd1bc"
      },
      "source": [
        "# m vertical\n",
        "from matplotlib.pyplot import imshow\n",
        "from PIL import Image, ImageDraw\n",
        "\n",
        "def ROUND(a):\n",
        "\treturn int(a + 0.5) #x=2+0.5 y=1.4+0.5 -> 1.1\n",
        " \n",
        "def drawDDA(x0,y0,x1,y1,img_draw):\n",
        "  #1. identificar los diferenciales (los pixeles que van a recorrer en cada eje)\n",
        "  dx = (x1-x0)\n",
        "  dy = (y1-y0)\n",
        "\n",
        "  #2. determinar el largo de la linea\n",
        "  length = dx if dx > dy else dy\n",
        "\n",
        "  #3. calcular incrementos en x & y\n",
        "  ix = dx/length #1+1 = 2\n",
        "  iy = dy/length #1+0.4 = 1.4\n",
        "\n",
        "  #4. asignar los puntos de inicio\n",
        "  x,y = x0,y0 #1,1\n",
        "\n",
        "  #5. pintar el punto de inicio\n",
        "  img_draw.point((ROUND(x),ROUND(y)),fill='blue')\n",
        "  \n",
        "  #6. aqui inicia el dibujo de los demás puntos de la linea hasta el final\n",
        "  for i in range(length):\n",
        "    x += ix\n",
        "    y += iy\n",
        "    img_draw.point((ROUND(x),ROUND(y)),fill='gray')\n",
        "\n",
        "#aqui termina el algoritmo de DDA\n",
        "\n",
        "#abrir el canvas creado anteriormente\n",
        "img = Image.open('blank_image.jpg')\n",
        "\n",
        "#llamar al ImageDraw de Pillow para manipular la imagen abierta \n",
        "img_draw = ImageDraw.Draw(img)\n",
        "\n",
        "#dibujar las lineas\n",
        "%timeit drawDDA(1,1, 1,10, img_draw)\n",
        "\n",
        "#guardar la imagen\n",
        "img.save('dda_image.jpg')\n",
        "\n",
        "# plotear la imagen \n",
        "plt.imshow(img,origin='lower')"
      ],
      "execution_count": null,
      "outputs": [
        {
          "output_type": "stream",
          "text": [
            "10000 loops, best of 5: 30.1 µs per loop\n"
          ],
          "name": "stdout"
        },
        {
          "output_type": "execute_result",
          "data": {
            "text/plain": [
              "<matplotlib.image.AxesImage at 0x7f4d61979fd0>"
            ]
          },
          "metadata": {
            "tags": []
          },
          "execution_count": 12
        },
        {
          "output_type": "display_data",
          "data": {
            "image/png": "[encoded data removed]",
            "text/plain": [
              "<Figure size 432x288 with 1 Axes>"
            ]
          },
          "metadata": {
            "tags": [],
            "needs_background": "light"
          }
        },
        {
          "output_type": "stream",
          "text": [
            "time: 2.13 s (started: 2021-03-31 03:20:56 +00:00)\n"
          ],
          "name": "stdout"
        }
      ]
    },
    {
      "cell_type": "markdown",
      "metadata": {
        "id": "j5l2jCqucSoI"
      },
      "source": [
        "• PENDIENTE m = horizontal"
      ]
    },
    {
      "cell_type": "code",
      "metadata": {
        "colab": {
          "base_uri": "https://localhost:8080/",
          "height": 316
        },
        "id": "aUdueAbkcZgw",
        "outputId": "ee105d60-97e8-40e2-86b6-626e62252aef"
      },
      "source": [
        "from matplotlib.pyplot import imshow\n",
        "from PIL import Image, ImageDraw\n",
        "\n",
        "def ROUND(a):\n",
        "\treturn int(a + 0.5) #x=2+0.5 y=1.4+0.5 -> 1.1\n",
        " \n",
        "def drawDDA(x0,y0,x1,y1,img_draw):\n",
        "  #1. identificar los diferenciales (los pixeles que van a recorrer en cada eje)\n",
        "  dx = (x1-x0)\n",
        "  dy = (y1-y0)\n",
        "\n",
        "  #2. determinar el largo de la linea\n",
        "  length = dx if dx > dy else dy\n",
        "\n",
        "  #3. calcular incrementos en x & y\n",
        "  ix = dx/length #1+1 = 2\n",
        "  iy = dy/length #1+0.4 = 1.4\n",
        "\n",
        "  #4. asignar los puntos de inicio\n",
        "  x,y = x0,y0 #1,1\n",
        "\n",
        "  #5. pintar el punto de inicio\n",
        "  img_draw.point((ROUND(x),ROUND(y)),fill='blue')\n",
        "  \n",
        "  #6. aqui inicia el dibujo de los demás puntos de la linea hasta el final\n",
        "  for i in range(length):\n",
        "    x += ix\n",
        "    y += iy\n",
        "    img_draw.point((ROUND(x),ROUND(y)),fill='gray')\n",
        "\n",
        "#aqui termina el algoritmo de DDA\n",
        "\n",
        "#abrir el canvas creado anteriormente\n",
        "img = Image.open('blank_image.jpg')\n",
        "\n",
        "#llamar al ImageDraw de Pillow para manipular la imagen abierta \n",
        "img_draw = ImageDraw.Draw(img)\n",
        "\n",
        "#dibujar las lineas\n",
        "%timeit drawDDA(1,1, 10,1, img_draw)\n",
        "\n",
        "#guardar la imagen\n",
        "img.save('dda_image.jpg')\n",
        "\n",
        "# plotear la imagen \n",
        "plt.imshow(img,origin='lower')\n",
        "\n"
      ],
      "execution_count": null,
      "outputs": [
        {
          "output_type": "stream",
          "text": [
            "10000 loops, best of 5: 31.6 µs per loop\n"
          ],
          "name": "stdout"
        },
        {
          "output_type": "execute_result",
          "data": {
            "text/plain": [
              "<matplotlib.image.AxesImage at 0x7f4d6195dbd0>"
            ]
          },
          "metadata": {
            "tags": []
          },
          "execution_count": 13
        },
        {
          "output_type": "display_data",
          "data": {
            "image/png": "[encoded data removed]",
            "text/plain": [
              "<Figure size 432x288 with 1 Axes>"
            ]
          },
          "metadata": {
            "tags": [],
            "needs_background": "light"
          }
        },
        {
          "output_type": "stream",
          "text": [
            "time: 2.21 s (started: 2021-03-31 03:21:03 +00:00)\n"
          ],
          "name": "stdout"
        }
      ]
    },
    {
      "cell_type": "markdown",
      "metadata": {
        "id": "XGgj_9nYgyei"
      },
      "source": [
        "**Ejercicio en clase**\n",
        "\n",
        "Grafique 2 lineas donde se cumpla que:\n",
        "\n",
        "Si | m | < 1, la línea es más horizontal que vertical.\n",
        "Según tiende a cero m, la línea tiende a ser horizontal.\n",
        "\n",
        "Si | m | > 1, la línea es más vertical que horizontal.\n",
        "Según tiende a infinito m, la línea tiende a ser vertical.\n",
        "\n",
        "Compare el tiempo de ejecución en ambas situaciones y justifique porque uno demora más que el otro. Además, para ayudar en su respuesta, Grafique una linea completamente vertical. \n"
      ]
    },
    {
      "cell_type": "markdown",
      "metadata": {
        "id": "imO8RTA3dtPy"
      },
      "source": [
        "En este caso el tiempo de ejecucion en la primera para m>1 es 30.1 µs y para m<1 es 29.8 µs.\n",
        "por lo tanto mientras la pendiente sea menor el tiempo de ejecucion sera menos."
      ]
    },
    {
      "cell_type": "markdown",
      "metadata": {
        "id": "DsSCE88om7eo"
      },
      "source": [
        "**Ejercicio Propuesto**\n",
        "Escribir un programa para dibujar 5 líneas al azar. Luego el programa debe señalar los puntos de intersección.\n",
        "\n",
        "![lineas.png](data:image/png;base64,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)"
      ]
    },
    {
      "cell_type": "code",
      "metadata": {
        "id": "XMxOOSqfTFIk",
        "colab": {
          "base_uri": "https://localhost:8080/",
          "height": 384
        },
        "outputId": "7944dc25-4fef-46e8-ebe0-8e152119304f"
      },
      "source": [
        "#trabajo\n",
        "from matplotlib.pyplot import imshow\n",
        "from PIL import Image, ImageDraw\n",
        "\n",
        "def ROUND(a):\n",
        "\treturn int(a + 0.5) #x=2+0.5 y=1.4+0.5 -> 1.1\n",
        " \n",
        "def drawDDA(x0,y0,x1,y1,img_draw):\n",
        "  #1. identificar los diferenciales (los pixeles que van a recorrer en cada eje)\n",
        "  dx = (x1-x0)\n",
        "  dy = (y1-y0)\n",
        "\n",
        "  #2. determinar el largo de la linea\n",
        "  length = dx if dx > dy else dy\n",
        "\n",
        "  #3. calcular incrementos en x & y\n",
        "  ix = dx/length #1+1 = 2\n",
        "  iy = dy/length #1+0.4 = 1.4\n",
        "\n",
        "  #4. asignar los puntos de inicio\n",
        "  x,y = x0,y0 #1,1\n",
        "\n",
        "  #5. pintar el punto de inicio\n",
        "  img_draw.point((ROUND(x),ROUND(y)),fill='blue')\n",
        "  \n",
        "  #6. aqui inicia el dibujo de los demás puntos de la linea hasta el final\n",
        "  for i in range(length):\n",
        "    x += ix\n",
        "    y += iy\n",
        "    img_draw.point((ROUND(x),ROUND(y)),fill='gray')\n",
        "\n",
        "#aqui termina el algoritmo de DDA\n",
        "\n",
        "#abrir el canvas creado anteriormente\n",
        "img = Image.open('blank_image.jpg')\n",
        "\n",
        "#llamar al ImageDraw de Pillow para manipular la imagen abierta \n",
        "img_draw = ImageDraw.Draw(img)\n",
        "\n",
        "#dibujar las lineas\n",
        "%timeit drawDDA(5,80,80,80, img_draw)\n",
        "%timeit drawDDA(5,65,90,50, img_draw)\n",
        "%timeit drawDDA(5,30,60,95, img_draw)\n",
        "%timeit drawDDA(20,25,80,70, img_draw)\n",
        "%timeit drawDDA(25,5,25,95, img_draw)\n",
        "#guardar la imagen\n",
        "img.save('dda_image.jpg')\n",
        "\n",
        "# plotear la imagen \n",
        "plt.imshow(img,origin='lower')\n"
      ],
      "execution_count": null,
      "outputs": [
        {
          "output_type": "stream",
          "text": [
            "1000 loops, best of 5: 222 µs per loop\n",
            "1000 loops, best of 5: 254 µs per loop\n",
            "10000 loops, best of 5: 202 µs per loop\n",
            "10000 loops, best of 5: 185 µs per loop\n",
            "1000 loops, best of 5: 271 µs per loop\n"
          ],
          "name": "stdout"
        },
        {
          "output_type": "execute_result",
          "data": {
            "text/plain": [
              "<matplotlib.image.AxesImage at 0x7f4d4ed55e10>"
            ]
          },
          "metadata": {
            "tags": []
          },
          "execution_count": 38
        },
        {
          "output_type": "display_data",
          "data": {
            "image/png": "[encoded data removed]",
            "text/plain": [
              "<Figure size 432x288 with 1 Axes>"
            ]
          },
          "metadata": {
            "tags": [],
            "needs_background": "light"
          }
        },
        {
          "output_type": "stream",
          "text": [
            "time: 28.9 s (started: 2021-03-31 05:01:47 +00:00)\n"
          ],
          "name": "stdout"
        }
      ]
    }
  ]
}