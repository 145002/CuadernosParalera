{
  "nbformat": 4,
  "nbformat_minor": 0,
  "metadata": {
    "colab": {
      "name": "Laboratorio 01.ipynb",
      "provenance": [],
      "collapsed_sections": [],
      "include_colab_link": true
    },
    "kernelspec": {
      "name": "python3",
      "display_name": "Python 3"
    },
    "language_info": {
      "name": "python"
    }
  },
  "cells": [
    {
      "cell_type": "markdown",
      "metadata": {
        "id": "view-in-github",
        "colab_type": "text"
      },
      "source": [
        "<a href=\"https://colab.research.google.com/github/145002/CuadernosParalera/blob/main/Laboratorio_01.ipynb\" target=\"_parent\"><img src=\"https://colab.research.google.com/assets/colab-badge.svg\" alt=\"Open In Colab\"/></a>"
      ]
    },
    {
      "cell_type": "markdown",
      "metadata": {
        "id": "wq8UERPjhTZT"
      },
      "source": [
        "# LABORATORIO 01 : Algoritmo DDA\n",
        "> Mg. Victor Dario Sosa Jauregui\n",
        "---"
      ]
    },
    {
      "cell_type": "markdown",
      "metadata": {
        "id": "uMqbeypij92a"
      },
      "source": [
        "#ALGORTIMO DDA\n",
        "Se muestrea una línea a intervalos unitarios en una coordenada y los valores enteros correspondientes más cercanos la trayectoria de la línea se determina para la otra coordenada."
      ]
    },
    {
      "cell_type": "markdown",
      "metadata": {
        "id": "crLjxT2AiQaO"
      },
      "source": [
        "## ECUACIONES\n",
        "\n",
        "> Ecuación de calculo de la pendiente\n",
        "$$\n",
        "m=\\frac{y_n-y_0}{x_n-x_0}\n",
        "$$\n",
        "\n",
        "> Ecuación de calculo de la punto intersección eje Y\n",
        "$$\n",
        "b=y_o-m\\ x_0\n",
        "$$\n",
        "\n",
        ">> Si **m<=1**\n",
        "$$ y_{k+1} = y_k + m$$\n",
        ">> Si **m>1**\n",
        "$$ x_{k+1} = x_k + \\frac{1}{m}$$\n",
        "\n"
      ]
    },
    {
      "cell_type": "markdown",
      "metadata": {
        "id": "wgHUvDvdhmky"
      },
      "source": [
        "## Libreria MatPlotLib\n",
        "Se utiliza para realizar gráficos coordenados, en diferentes formas y configuraciones\n",
        "\n",
        "\n",
        "```\n",
        "import matplotlib.pyplot as plt \n",
        "```\n",
        "\n",
        "\n"
      ]
    },
    {
      "cell_type": "code",
      "metadata": {
        "colab": {
          "base_uri": "https://localhost:8080/",
          "height": 281
        },
        "id": "La9grvDmhJPm",
        "outputId": "f4484547-b498-4ca1-c03d-286133130eb0"
      },
      "source": [
        "# EJEMPLO\n",
        "import matplotlib.pyplot as plt \n",
        "\n",
        "x = range(10,30)\n",
        "y = range(10,30)\n",
        "\n",
        "# Graficar\n",
        "plt.plot(x, y)\n",
        "\n",
        "# Titulo\n",
        "plt.title(\"Ejemplo\")\n",
        "\n",
        "# Limites de X e Y\n",
        "plt.xlim(0,50)\n",
        "plt.ylim(0,50)\n",
        "\n",
        "# Mostrar\n",
        "plt.show()"
      ],
      "execution_count": 1,
      "outputs": [
        {
          "output_type": "display_data",
          "data": {
            "image/png": "[encoded data removed]",
            "text/plain": [
              "<Figure size 432x288 with 1 Axes>"
            ]
          },
          "metadata": {
            "needs_background": "light"
          }
        }
      ]
    },
    {
      "cell_type": "markdown",
      "metadata": {
        "id": "HrBU5MEilC9x"
      },
      "source": [
        "##Raster con MattPlotLib"
      ]
    },
    {
      "cell_type": "markdown",
      "metadata": {
        "id": "r5fIKX_AmTSz"
      },
      "source": [
        "\n",
        "\n",
        "**Función Scatter**\n",
        "Se utiliza para grafica puntos discretos coordenados\n",
        "\n",
        "\n",
        "\n",
        "```\n",
        "plt.scatter(x, y, s=10, marker=\"s\")\n",
        "```\n",
        "\n",
        "> **x, y** Las posiciones de los datos.\n",
        "\n",
        "> **marker:** Permite establecer la figura del punto\n",
        "\n",
        "> **s:** Permite establecer tamaño del punto\n",
        "\n",
        "\n"
      ]
    },
    {
      "cell_type": "code",
      "metadata": {
        "colab": {
          "base_uri": "https://localhost:8080/",
          "height": 265
        },
        "id": "N_M6B2gwmS9q",
        "outputId": "8f6ae410-2580-4a19-b5fa-785d511c5dcc"
      },
      "source": [
        "import matplotlib.pyplot as plt\n",
        "\n",
        "x = [2,3]\n",
        "y = [2,3]\n",
        "\n",
        "plt.scatter(x, y, s=100, marker=\"s\")\n",
        "plt.show()"
      ],
      "execution_count": null,
      "outputs": [
        {
          "output_type": "display_data",
          "data": {
            "image/png": "[encoded data removed]",
            "text/plain": [
              "<Figure size 432x288 with 1 Axes>"
            ]
          },
          "metadata": {
            "needs_background": "light"
          }
        }
      ]
    },
    {
      "cell_type": "markdown",
      "metadata": {
        "id": "vuu9GSH3nbK0"
      },
      "source": [
        "**Raster**"
      ]
    },
    {
      "cell_type": "code",
      "metadata": {
        "colab": {
          "base_uri": "https://localhost:8080/",
          "height": 607
        },
        "id": "qxQ6SQ-9lm9E",
        "outputId": "51f98e44-926d-47e2-b099-7136c343094e"
      },
      "source": [
        "import matplotlib.pyplot as plt\n",
        "\n",
        "x = [5, 12]\n",
        "y = [-10, 6]\n",
        "\n",
        "# Establece el tamaño (ratio)\n",
        "plt.figure(figsize=(10,10))\n",
        "\n",
        "plt.scatter(x, y,s=175, marker=\"s\")\n",
        "\n",
        "# Limites X e Y\n",
        "plt.xlim(-20,20)\n",
        "plt.ylim(-20,20)\n",
        "\n",
        "#Titulo\n",
        "plt.title(\"Algortimo DDA\")\n",
        "\n",
        "# Ejes X e Y\n",
        "plt.axhline(c='red',lw=0.7)\n",
        "plt.axvline(c='red',lw=0.7)\n",
        "\n",
        "# Divisiones\n",
        "lineas_x , lineas_y = [] , []\n",
        "for i in range(-100,100):\n",
        "    lineas_x.append(i+0.5)\n",
        "    lineas_y.append(i+0.5)\n",
        "\n",
        "plt.vlines(x=lineas_x, ymin=-100, ymax=100, colors='red', lw=0.2)\n",
        "plt.hlines(y=lineas_y, xmin=-100, xmax=100, colors='red', lw=0.2)\n",
        "\n",
        "# Mostrar\n",
        "plt.show()"
      ],
      "execution_count": null,
      "outputs": [
        {
          "output_type": "display_data",
          "data": {
            "image/png": "[encoded data removed]",
            "text/plain": [
              "<Figure size 720x720 with 1 Axes>"
            ]
          },
          "metadata": {
            "needs_background": "light"
          }
        }
      ]
    },
    {
      "cell_type": "markdown",
      "metadata": {
        "id": "WSEtueLY1LYh"
      },
      "source": [
        "**NOTA**"
      ]
    },
    {
      "cell_type": "code",
      "metadata": {
        "colab": {
          "base_uri": "https://localhost:8080/"
        },
        "id": "iDvjGQmk1KB5",
        "outputId": "84d1dd2c-7167-4252-b336-21cb4e7f12c4"
      },
      "source": [
        "import math\n",
        "a = 4.5\n",
        "print(round(a))         # 4+\n",
        "print(math.floor(a))    # 4\n",
        "print(math.ceil(a))     # 5"
      ],
      "execution_count": null,
      "outputs": [
        {
          "output_type": "stream",
          "name": "stdout",
          "text": [
            "4\n",
            "4\n",
            "5\n"
          ]
        }
      ]
    },
    {
      "cell_type": "markdown",
      "metadata": {
        "id": "e6FILjPUiBcY"
      },
      "source": [
        "---\n",
        "# EJERCICIOS\n",
        "\n",
        "1. Crear una función que retorne los puntos de la recta del Algoritmo DDA\n",
        "2. Crear una función que grafique la recta del Algoritmo DDA"
      ]
    },
    {
      "cell_type": "code",
      "metadata": {
        "id": "nvXqoEEpdOhb"
      },
      "source": [
        ""
      ],
      "execution_count": null,
      "outputs": []
    }
  ]
}